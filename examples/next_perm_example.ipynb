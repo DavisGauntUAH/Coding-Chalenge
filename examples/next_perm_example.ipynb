{
 "cells": [
  {
   "cell_type": "code",
   "execution_count": null,
   "metadata": {},
   "outputs": [],
   "source": [
    "from next_permutation import next_perm\n",
    "\n",
    "example = next_perm.next_perm()\n",
    "print(example.next_perm(['d','h','c','k']))"
   ]
  }
 ],
 "metadata": {
  "language_info": {
   "name": "python"
  },
  "orig_nbformat": 4
 },
 "nbformat": 4,
 "nbformat_minor": 2
}
