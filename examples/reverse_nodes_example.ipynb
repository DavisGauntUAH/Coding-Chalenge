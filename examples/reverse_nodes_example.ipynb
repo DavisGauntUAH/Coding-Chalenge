{
 "cells": [
  {
   "cell_type": "code",
   "execution_count": null,
   "metadata": {},
   "outputs": [],
   "source": [
    "from reverse_nodes import reverse_nodes\n",
    "\n",
    "l1 = [1,2,3,4,5,6]\n",
    "\n",
    "example = reverse_nodes.reverse_nodes(l1)\n",
    "example.swap(3)\n",
    "\n",
    "example.l_print()"
   ]
  }
 ],
 "metadata": {
  "language_info": {
   "name": "python"
  },
  "orig_nbformat": 4
 },
 "nbformat": 4,
 "nbformat_minor": 2
}
