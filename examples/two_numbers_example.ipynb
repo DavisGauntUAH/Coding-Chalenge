{
 "cells": [
  {
   "cell_type": "code",
   "execution_count": null,
   "metadata": {},
   "outputs": [],
   "source": [
    "from two_numbers import two_numbers\n",
    "\n",
    "l1 = [2,4,3]\n",
    "l2 = [5,6,4]\n",
    "\n",
    "example = two_numbers.two_numbers(l1, l2)\n",
    "\n",
    "ans = example.addTwoNumbers()\n",
    "\n",
    "print(example.l_list_to_arr(ans))"
   ]
  }
 ],
 "metadata": {
  "language_info": {
   "name": "python"
  },
  "orig_nbformat": 4
 },
 "nbformat": 4,
 "nbformat_minor": 2
}
