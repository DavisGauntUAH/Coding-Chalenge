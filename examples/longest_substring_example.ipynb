{
 "cells": [
  {
   "cell_type": "code",
   "execution_count": null,
   "metadata": {},
   "outputs": [],
   "source": [
    "from longest_substring import longest_substring\n",
    "\n",
    "example = longest_substring.longest_substring()\n",
    "\n",
    "try:\n",
    "    print(example.length_of_longest_substring(\"abcabcbb\"))\n",
    "except TypeError as err:\n",
    "    print(f\"Error: {err}\")"
   ]
  }
 ],
 "metadata": {
  "language_info": {
   "name": "python"
  },
  "orig_nbformat": 4
 },
 "nbformat": 4,
 "nbformat_minor": 2
}
